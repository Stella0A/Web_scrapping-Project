{
 "cells": [
  {
   "cell_type": "code",
   "execution_count": 103,
   "id": "ef4dc08e",
   "metadata": {},
   "outputs": [],
   "source": [
    "import requests \n",
    "from bs4 import BeautifulSoup"
   ]
  },
  {
   "cell_type": "code",
   "execution_count": 107,
   "id": "bb8d43a4",
   "metadata": {},
   "outputs": [],
   "source": [
    "url='https://punchng.com/topics/entertainment/'"
   ]
  },
  {
   "cell_type": "code",
   "execution_count": 108,
   "id": "cfded962",
   "metadata": {},
   "outputs": [],
   "source": [
    "content=requests.get(url).text"
   ]
  },
  {
   "cell_type": "code",
   "execution_count": 109,
   "id": "b192b281",
   "metadata": {},
   "outputs": [],
   "source": [
    "soup=BeautifulSoup(content,'html.parser')"
   ]
  },
  {
   "cell_type": "code",
   "execution_count": 113,
   "id": "7b09757e",
   "metadata": {},
   "outputs": [],
   "source": [
    "entries=soup.find_all('div')"
   ]
  },
  {
   "cell_type": "code",
   "execution_count": 59,
   "id": "880a9a1e",
   "metadata": {},
   "outputs": [],
   "source": [
    "links = []\n",
    "for entry in entries:\n",
    "    link = entry.a.get('href')\n",
    "    links.append(link)"
   ]
  },
  {
   "cell_type": "code",
   "execution_count": 67,
   "id": "78d4d201",
   "metadata": {},
   "outputs": [],
   "source": [
    "new_url = links[0]"
   ]
  },
  {
   "cell_type": "code",
   "execution_count": 68,
   "id": "2afd5794",
   "metadata": {},
   "outputs": [],
   "source": [
    "new_content = requests.get(new_url).text"
   ]
  },
  {
   "cell_type": "code",
   "execution_count": 69,
   "id": "98177cb7",
   "metadata": {},
   "outputs": [],
   "source": [
    "new_soup = BeautifulSoup(new_content,'html.parser')"
   ]
  },
  {
   "cell_type": "code",
   "execution_count": 76,
   "id": "c0d88740",
   "metadata": {},
   "outputs": [],
   "source": [
    "title = new_soup.find('h1',attrs={'class':\"entry-title\"}).text"
   ]
  },
  {
   "cell_type": "code",
   "execution_count": 94,
   "id": "efa52225",
   "metadata": {},
   "outputs": [],
   "source": [
    "author = new_soup.find('span', attrs={'class':\"vcard\"})"
   ]
  },
  {
   "cell_type": "code",
   "execution_count": 83,
   "id": "095a2932",
   "metadata": {},
   "outputs": [],
   "source": [
    "source = 'Punch Newspapers'"
   ]
  },
  {
   "cell_type": "code",
   "execution_count": 84,
   "id": "c9203721",
   "metadata": {},
   "outputs": [],
   "source": [
    "post_content = new_soup.find('div', attrs={'class':'entry-content'})"
   ]
  },
  {
   "cell_type": "code",
   "execution_count": 87,
   "id": "ac408d77",
   "metadata": {},
   "outputs": [],
   "source": [
    "def cleantext(text):\n",
    "    text = text.replace('\\xa0', '').replace('\\n', ' ').replace('\\r', ' ').replace('\\\\', '').replace('  ', '').replace(\n",
    "        '\\t', '')\n",
    "    return text\n",
    "\n",
    "def get_cleaned_content(story_details):\n",
    "    con = \"\"\n",
    "    contents = story_details.findAll('p')\n",
    "    for content in contents:\n",
    "        con = con + content.text\n",
    "    cleaned_content = cleantext(con)\n",
    "    return cleaned_content"
   ]
  },
  {
   "cell_type": "code",
   "execution_count": 89,
   "id": "bba7cf89",
   "metadata": {},
   "outputs": [],
   "source": [
    "content_ = get_cleaned_content(post_content)"
   ]
  },
  {
   "cell_type": "code",
   "execution_count": 90,
   "id": "00bf40d7",
   "metadata": {},
   "outputs": [],
   "source": [
    "urlToImage = new_soup.find('div', attrs={'class':'entry-thumbnail-wrapper'}).img.get('srcset-loading-lazy')"
   ]
  },
  {
   "cell_type": "code",
   "execution_count": 92,
   "id": "bf14981e",
   "metadata": {},
   "outputs": [],
   "source": [
    "publishedAt = new_soup.span.get('datetime')\n",
    "country = 'NG'"
   ]
  },
  {
   "cell_type": "code",
   "execution_count": 95,
   "id": "65449f4b",
   "metadata": {},
   "outputs": [
    {
     "data": {
      "text/plain": [
       "{'source': 'Punch Newspapers',\n",
       " 'author': None,\n",
       " 'title': 'Expectations from reality TV stars unrealistic – BBNaija star, Prince',\n",
       " 'content_': 'Former Big Brother Naija housemate, Nelson Enwerem, also known as Prince, has urged fans to reduce the pressure they put on reality TV stars because they need time to grow in the entertainment industry. Prince, in an exclusive chat with our correspondent, said most reality TV stars were nobody before they went on the show, adding that they became stars after the show without knowing how to navigate the entertainment space. He said, “There is definitely a lot of pressure and expectations from reality TV stars. Sometimes very unrealistic expectations. People tend to forget that the Big Brother Naija reality TV stars were literally nobody. “A lot of them were not known. They had 300 followers on Instagram months before they went on the show. It’s like you just pick them out and make them big stars. “Most of us didn’t know anything about the entertainment space or how to navigate it. Grace led us there; now we are trying to find our feet and manage the fame that is coming our way and changing our lives. “People expect you to operate on the same pedestal with the likes of Genevieve, Ramsey Nouah, and all other amazing legends in the industry, who have been in the entertainment industry for several years and have had time to hone their skills and refine themselves.” Prince said reality TV stars needed time to hone their skills after the programme and to determine their place in the entertainment industry. Read Also Leave my family out of fan wars- BBNaija Prince begs fansHe said, “Sometimes, the noise is so much because there are a lot of people you are hearing at the same time. I want to ask that people give BBNaija housemates, especially the new ones a break. “Allow them to grow; allow them to make their mistakes; allow them to refine themselves and rebrand themselves and be able to choose what they want to do.” Prince said he had an amazing time acting in the movie ‘Man of God,’ noting that the producers and directors were very supportive. The reality TV star said he was open to more movie roles, adding that acting had always been something he loved to do.Copyright PUNCH.All rights reserved. This material, and other digital content on this website, may not be reproduced, published, broadcast, rewritten or redistributed in whole or in part without prior express written permission from PUNCH. Contact: [emailprotected] Prince, in an exclusive chat with our correspondent, said most reality TV stars were nobody before they went on the show, adding that they became stars after the show without knowing how to navigate the entertainment space. He said, “There is definitely a lot of pressure and expectations from reality TV stars. Sometimes very unrealistic expectations. People tend to forget that the Big Brother Naija reality TV stars were literally nobody. “A lot of them were not known. They had 300 followers on Instagram months before they went on the show. It’s like you just pick them out and make them big stars. “Most of us didn’t know anything about the entertainment space or how to navigate it. Grace led us there; now we are trying to find our feet and manage the fame that is coming our way and changing our lives. “People expect you to operate on the same pedestal with the likes of Genevieve, Ramsey Nouah, and all other amazing legends in the industry, who have been in the entertainment industry for several years and have had time to hone their skills and refine themselves.” Prince said reality TV stars needed time to hone their skills after the programme and to determine their place in the entertainment industry. Read Also Leave my family out of fan wars- BBNaija Prince begs fansHe said, “Sometimes, the noise is so much because there are a lot of people you are hearing at the same time. I want to ask that people give BBNaija housemates, especially the new ones a break. “Allow them to grow; allow them to make their mistakes; allow them to refine themselves and rebrand themselves and be able to choose what they want to do.” Prince said he had an amazing time acting in the movie ‘Man of God,’ noting that the producers and directors were very supportive. The reality TV star said he was open to more movie roles, adding that acting had always been something he loved to do.Copyright PUNCH.All rights reserved. This material, and other digital content on this website, may not be reproduced, published, broadcast, rewritten or redistributed in whole or in part without prior express written permission from PUNCH. Contact: [emailprotected] He said, “There is definitely a lot of pressure and expectations from reality TV stars. Sometimes very unrealistic expectations. People tend to forget that the Big Brother Naija reality TV stars were literally nobody. “A lot of them were not known. They had 300 followers on Instagram months before they went on the show. It’s like you just pick them out and make them big stars. “Most of us didn’t know anything about the entertainment space or how to navigate it. Grace led us there; now we are trying to find our feet and manage the fame that is coming our way and changing our lives. “People expect you to operate on the same pedestal with the likes of Genevieve, Ramsey Nouah, and all other amazing legends in the industry, who have been in the entertainment industry for several years and have had time to hone their skills and refine themselves.” Prince said reality TV stars needed time to hone their skills after the programme and to determine their place in the entertainment industry. Read Also Leave my family out of fan wars- BBNaija Prince begs fansHe said, “Sometimes, the noise is so much because there are a lot of people you are hearing at the same time. I want to ask that people give BBNaija housemates, especially the new ones a break. “Allow them to grow; allow them to make their mistakes; allow them to refine themselves and rebrand themselves and be able to choose what they want to do.” Prince said he had an amazing time acting in the movie ‘Man of God,’ noting that the producers and directors were very supportive. The reality TV star said he was open to more movie roles, adding that acting had always been something he loved to do.Copyright PUNCH.All rights reserved. This material, and other digital content on this website, may not be reproduced, published, broadcast, rewritten or redistributed in whole or in part without prior express written permission from PUNCH. Contact: [emailprotected] “A lot of them were not known. They had 300 followers on Instagram months before they went on the show. It’s like you just pick them out and make them big stars. “Most of us didn’t know anything about the entertainment space or how to navigate it. Grace led us there; now we are trying to find our feet and manage the fame that is coming our way and changing our lives. “People expect you to operate on the same pedestal with the likes of Genevieve, Ramsey Nouah, and all other amazing legends in the industry, who have been in the entertainment industry for several years and have had time to hone their skills and refine themselves.” Prince said reality TV stars needed time to hone their skills after the programme and to determine their place in the entertainment industry. Read Also Leave my family out of fan wars- BBNaija Prince begs fansHe said, “Sometimes, the noise is so much because there are a lot of people you are hearing at the same time. I want to ask that people give BBNaija housemates, especially the new ones a break. “Allow them to grow; allow them to make their mistakes; allow them to refine themselves and rebrand themselves and be able to choose what they want to do.” Prince said he had an amazing time acting in the movie ‘Man of God,’ noting that the producers and directors were very supportive. The reality TV star said he was open to more movie roles, adding that acting had always been something he loved to do.Copyright PUNCH.All rights reserved. This material, and other digital content on this website, may not be reproduced, published, broadcast, rewritten or redistributed in whole or in part without prior express written permission from PUNCH. Contact: [emailprotected] “Most of us didn’t know anything about the entertainment space or how to navigate it. Grace led us there; now we are trying to find our feet and manage the fame that is coming our way and changing our lives. “People expect you to operate on the same pedestal with the likes of Genevieve, Ramsey Nouah, and all other amazing legends in the industry, who have been in the entertainment industry for several years and have had time to hone their skills and refine themselves.” Prince said reality TV stars needed time to hone their skills after the programme and to determine their place in the entertainment industry. Read Also Leave my family out of fan wars- BBNaija Prince begs fansHe said, “Sometimes, the noise is so much because there are a lot of people you are hearing at the same time. I want to ask that people give BBNaija housemates, especially the new ones a break. “Allow them to grow; allow them to make their mistakes; allow them to refine themselves and rebrand themselves and be able to choose what they want to do.” Prince said he had an amazing time acting in the movie ‘Man of God,’ noting that the producers and directors were very supportive. The reality TV star said he was open to more movie roles, adding that acting had always been something he loved to do.Copyright PUNCH.All rights reserved. This material, and other digital content on this website, may not be reproduced, published, broadcast, rewritten or redistributed in whole or in part without prior express written permission from PUNCH. Contact: [emailprotected] “People expect you to operate on the same pedestal with the likes of Genevieve, Ramsey Nouah, and all other amazing legends in the industry, who have been in the entertainment industry for several years and have had time to hone their skills and refine themselves.” Prince said reality TV stars needed time to hone their skills after the programme and to determine their place in the entertainment industry. Read Also Leave my family out of fan wars- BBNaija Prince begs fansHe said, “Sometimes, the noise is so much because there are a lot of people you are hearing at the same time. I want to ask that people give BBNaija housemates, especially the new ones a break. “Allow them to grow; allow them to make their mistakes; allow them to refine themselves and rebrand themselves and be able to choose what they want to do.” Prince said he had an amazing time acting in the movie ‘Man of God,’ noting that the producers and directors were very supportive. The reality TV star said he was open to more movie roles, adding that acting had always been something he loved to do.Copyright PUNCH.All rights reserved. This material, and other digital content on this website, may not be reproduced, published, broadcast, rewritten or redistributed in whole or in part without prior express written permission from PUNCH. Contact: [emailprotected] Prince said reality TV stars needed time to hone their skills after the programme and to determine their place in the entertainment industry. Read Also Leave my family out of fan wars- BBNaija Prince begs fansHe said, “Sometimes, the noise is so much because there are a lot of people you are hearing at the same time. I want to ask that people give BBNaija housemates, especially the new ones a break. “Allow them to grow; allow them to make their mistakes; allow them to refine themselves and rebrand themselves and be able to choose what they want to do.” Prince said he had an amazing time acting in the movie ‘Man of God,’ noting that the producers and directors were very supportive. The reality TV star said he was open to more movie roles, adding that acting had always been something he loved to do.Copyright PUNCH.All rights reserved. This material, and other digital content on this website, may not be reproduced, published, broadcast, rewritten or redistributed in whole or in part without prior express written permission from PUNCH. Contact: [emailprotected] He said, “Sometimes, the noise is so much because there are a lot of people you are hearing at the same time. I want to ask that people give BBNaija housemates, especially the new ones a break. “Allow them to grow; allow them to make their mistakes; allow them to refine themselves and rebrand themselves and be able to choose what they want to do.” Prince said he had an amazing time acting in the movie ‘Man of God,’ noting that the producers and directors were very supportive. The reality TV star said he was open to more movie roles, adding that acting had always been something he loved to do.Copyright PUNCH.All rights reserved. This material, and other digital content on this website, may not be reproduced, published, broadcast, rewritten or redistributed in whole or in part without prior express written permission from PUNCH. Contact: [emailprotected] “Allow them to grow; allow them to make their mistakes; allow them to refine themselves and rebrand themselves and be able to choose what they want to do.” Prince said he had an amazing time acting in the movie ‘Man of God,’ noting that the producers and directors were very supportive. The reality TV star said he was open to more movie roles, adding that acting had always been something he loved to do.Copyright PUNCH.All rights reserved. This material, and other digital content on this website, may not be reproduced, published, broadcast, rewritten or redistributed in whole or in part without prior express written permission from PUNCH. Contact: [emailprotected] Prince said he had an amazing time acting in the movie ‘Man of God,’ noting that the producers and directors were very supportive. The reality TV star said he was open to more movie roles, adding that acting had always been something he loved to do.Copyright PUNCH.All rights reserved. This material, and other digital content on this website, may not be reproduced, published, broadcast, rewritten or redistributed in whole or in part without prior express written permission from PUNCH. Contact: [emailprotected] The reality TV star said he was open to more movie roles, adding that acting had always been something he loved to do.Copyright PUNCH.All rights reserved. This material, and other digital content on this website, may not be reproduced, published, broadcast, rewritten or redistributed in whole or in part without prior express written permission from PUNCH. Contact: [emailprotected] Copyright PUNCH.All rights reserved. This material, and other digital content on this website, may not be reproduced, published, broadcast, rewritten or redistributed in whole or in part without prior express written permission from PUNCH. Contact: [emailprotected] All rights reserved. This material, and other digital content on this website, may not be reproduced, published, broadcast, rewritten or redistributed in whole or in part without prior express written permission from PUNCH. Contact: [emailprotected] Contact: [emailprotected] ',\n",
       " 'description': '',\n",
       " 'url': 'https://punchng.com/expectations-from-reality-tv-stars-unrealistic-bbnaija-star-prince/',\n",
       " 'urlToImage': None,\n",
       " 'publishedAt': None,\n",
       " 'country': 'NG'}"
      ]
     },
     "execution_count": 95,
     "metadata": {},
     "output_type": "execute_result"
    }
   ],
   "source": [
    "{\"source\": source, \"author\": author, \"title\": title, \"content_\": content_, \"description\": \"\",\n",
    "         \"url\": new_url, \"urlToImage\": urlToImage, \"publishedAt\": publishedAt , \"country\": country}"
   ]
  },
  {
   "cell_type": "code",
   "execution_count": null,
   "id": "b7b64c71",
   "metadata": {},
   "outputs": [],
   "source": []
  }
 ],
 "metadata": {
  "kernelspec": {
   "display_name": "Python 3 (ipykernel)",
   "language": "python",
   "name": "python3"
  },
  "language_info": {
   "codemirror_mode": {
    "name": "ipython",
    "version": 3
   },
   "file_extension": ".py",
   "mimetype": "text/x-python",
   "name": "python",
   "nbconvert_exporter": "python",
   "pygments_lexer": "ipython3",
   "version": "3.9.7"
  }
 },
 "nbformat": 4,
 "nbformat_minor": 5
}
