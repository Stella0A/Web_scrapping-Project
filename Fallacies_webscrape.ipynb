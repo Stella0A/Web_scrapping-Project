{
 "cells": [
  {
   "cell_type": "code",
   "execution_count": 22,
   "id": "251a88e9-9c15-4bc4-b040-b2b415793575",
   "metadata": {},
   "outputs": [],
   "source": [
    "import requests\n",
    "from bs4 import BeautifulSoup"
   ]
  },
  {
   "cell_type": "code",
   "execution_count": 23,
   "id": "c43987b6-75a6-4d2f-8024-db39390359ed",
   "metadata": {},
   "outputs": [],
   "source": [
    "def google_scholar_search(query, num_pages=1):\n",
    "    paper_links = []\n",
    "    for page in range(num_pages):\n",
    "        url = f\"https://scholar.google.com/scholar?q={query}&start={page * 10}\"\n",
    "        headers = {\n",
    "            \"User-Agent\": \"Mozilla/5.0 (Windows NT 10.0; Win64; x64) AppleWebKit/537.36 (KHTML, like Gecko) Chrome/58.0.3029.110 Safari/537.3\"}\n",
    "        response = requests.get(url, headers=headers)\n",
    "        soup = BeautifulSoup(response.text, \"html.parser\")\n",
    "        results = soup.find_all(\"h3\", class_=\"gs_rt\")\n",
    "\n",
    "        for result in results:\n",
    "            link = result.find(\"a\")\n",
    "            if link:\n",
    "                paper_links.append(link['href'])\n",
    "\n",
    "    return paper_links"
   ]
  },
  {
   "cell_type": "code",
   "execution_count": 27,
   "id": "a0d2afaf-5604-4d74-8936-7102c0982a88",
   "metadata": {},
   "outputs": [
    {
     "name": "stdout",
     "output_type": "stream",
     "text": [
      "Paper 1: https://www.cambridge.org/core/journals/behavioral-and-brain-sciences/article/an-elitist-naturalistic-fallacy-and-the-automaticcontrolled-continuum/4B61377DE6782D281839B168FC4AAD42\n",
      "Paper 2: https://www.elgaronline.com/edcollchap/book/9781800881907/book-part-9781800881907-8.xml\n",
      "Paper 3: https://www.firm.fm/wp-content/uploads/2022/05/Papers-Round-Table-AI-April-2022.pdf\n",
      "Paper 4: https://www.tandfonline.com/doi/abs/10.1080/10447318.2022.2153320\n",
      "Paper 5: https://books.google.com/books?hl=en&lr=&id=EKLLEAAAQBAJ&oi=fnd&pg=PP1&dq=fallacies+in+data+science+AND+fallacies+in+machine+learning+AND+fallacies+AND+bias+AND+Semantic+data+AND+Logical+errors+AND+Unfairness+AND+fallacies+in+artificial+intelligence+AND+synthetic+data+generation+AND+bias&ots=wS3xxMvwQj&sig=KnXvNmWrt19mB3s3aKfBE21qank\n",
      "Paper 6: https://books.google.com/books?hl=en&lr=&id=zb8UvxzusQ8C&oi=fnd&pg=PP6&dq=fallacies+in+data+science+AND+fallacies+in+machine+learning+AND+fallacies+AND+bias+AND+Semantic+data+AND+Logical+errors+AND+Unfairness+AND+fallacies+in+artificial+intelligence+AND+synthetic+data+generation+AND+bias&ots=20ZyCo_Pa6&sig=oX6_f6JrdVVoiERek4WNv2C9W7o\n",
      "Paper 7: https://books.google.com/books?hl=en&lr=&id=3bLnEAAAQBAJ&oi=fnd&pg=PA213&dq=fallacies+in+data+science+AND+fallacies+in+machine+learning+AND+fallacies+AND+bias+AND+Semantic+data+AND+Logical+errors+AND+Unfairness+AND+fallacies+in+artificial+intelligence+AND+synthetic+data+generation+AND+bias&ots=28DnAIRnCD&sig=f10K4S0YYgTqm_vr619jbJeSbKk\n",
      "Paper 8: https://books.google.com/books?hl=en&lr=&id=JMNuEAAAQBAJ&oi=fnd&pg=PT13&dq=fallacies+in+data+science+AND+fallacies+in+machine+learning+AND+fallacies+AND+bias+AND+Semantic+data+AND+Logical+errors+AND+Unfairness+AND+fallacies+in+artificial+intelligence+AND+synthetic+data+generation+AND+bias&ots=3nfrDFxWsV&sig=2iWjXhbvCRUHb3WulZmGgbuIsk8\n",
      "Paper 9: https://link.springer.com/chapter/10.1007/978-3-642-03631-6_7\n",
      "Paper 10: https://ieeexplore.ieee.org/abstract/document/10416838/\n",
      "Paper 11: https://journals.sagepub.com/doi/abs/10.1177/23294906221074311\n",
      "Paper 12: https://www.sciencedirect.com/science/article/pii/B978032390534300010X\n",
      "Paper 13: https://www.cambridge.org/core/journals/behavioral-and-brain-sciences/article/three-fallacies/EDE0941FA02384CB8FBADBD86D0B0671\n",
      "Paper 14: https://books.google.com/books?hl=en&lr=&id=en1LEAAAQBAJ&oi=fnd&pg=PR13&dq=fallacies+in+data+science+AND+fallacies+in+machine+learning+AND+fallacies+AND+bias+AND+Semantic+data+AND+Logical+errors+AND+Unfairness+AND+fallacies+in+artificial+intelligence+AND+synthetic+data+generation+AND+bias&ots=8eugvEewoD&sig=lJadOs7skFOGLHfuKw2c0YyV430\n",
      "Paper 15: https://www.mdpi.com/2077-0383/12/3/937\n",
      "Paper 16: https://link.springer.com/article/10.1007/s00146-023-01756-4\n",
      "Paper 17: https://books.google.com/books?hl=en&lr=&id=A5xkEAAAQBAJ&oi=fnd&pg=PR11&dq=fallacies+in+data+science+AND+fallacies+in+machine+learning+AND+fallacies+AND+bias+AND+Semantic+data+AND+Logical+errors+AND+Unfairness+AND+fallacies+in+artificial+intelligence+AND+synthetic+data+generation+AND+bias&ots=yP34IAt8r_&sig=Z0J_lXFr9WpXDxvPsPE2y7OHwQk\n",
      "Paper 18: https://www.diva-portal.org/smash/record.jsf?pid=diva2:1591892\n",
      "Paper 19: https://www.sciencedirect.com/science/article/pii/S0065240708000062\n",
      "Paper 20: https://link.springer.com/article/10.1007/s00146-023-01840-9\n",
      "Paper 21: https://uknowledge.uky.edu/philosophy_etds/34/\n",
      "Paper 22: https://journals.sagepub.com/doi/abs/10.1177/0263276418818889\n",
      "Paper 23: https://www.cambridge.org/core/journals/behavioral-and-brain-sciences/article/advancing-the-rationality-debate/C616BA01F179ECBE5884EDCCF0862238\n",
      "Paper 24: https://orbilu.uni.lu/handle/10993/48446\n",
      "Paper 25: https://www.sciencedirect.com/science/article/pii/S2950162824000316\n",
      "Paper 26: https://link.springer.com/content/pdf/10.1007/978-1-4842-9306-5.pdf\n",
      "Paper 27: https://books.google.com/books?hl=en&lr=&id=8g1yEAAAQBAJ&oi=fnd&pg=PT164&dq=fallacies+in+data+science+AND+fallacies+in+machine+learning+AND+fallacies+AND+bias+AND+Semantic+data+AND+Logical+errors+AND+Unfairness+AND+fallacies+in+artificial+intelligence+AND+synthetic+data+generation+AND+bias&ots=cdijUaPTL0&sig=Vw8NJyGzJ4u2TcvqJ-mz88wV0r4\n",
      "Paper 28: https://search.proquest.com/openview/52adc006d08f330f3b324800b610fb59/1?pq-origsite=gscholar&cbl=2029993\n",
      "Paper 29: https://www.jstor.org/stable/20115509\n",
      "Paper 30: https://psycnet.apa.org/journals/bul/138/2/211/\n",
      "Paper 31: https://www.academia.edu/download/63156730/Pasquinelli_Joler_Nooscope_essay20200501-123504-c87x2f.pdf\n",
      "Paper 32: https://www.worldscientific.com/doi/abs/10.1142/S0218213013500218\n",
      "Paper 33: https://dspace.mit.edu/handle/1721.1/152001\n",
      "Paper 34: https://www.sciencedirect.com/science/article/pii/S0950705123008985\n",
      "Paper 35: https://books.google.com/books?hl=en&lr=&id=b-mUDwAAQBAJ&oi=fnd&pg=PR9&dq=fallacies+in+data+science+AND+fallacies+in+machine+learning+AND+fallacies+AND+bias+AND+Semantic+data+AND+Logical+errors+AND+Unfairness+AND+fallacies+in+artificial+intelligence+AND+synthetic+data+generation+AND+bias&ots=EFKdzJ1B3G&sig=jVwSPK3pmM8SfbYtmzQSwrvF5Jg\n",
      "Paper 36: https://www.mdpi.com/1099-4300/22/10/1122\n",
      "Paper 37: https://www.preprints.org/manuscript/202001.0163\n",
      "Paper 38: https://books.google.com/books?hl=en&lr=&id=2LBoDwAAQBAJ&oi=fnd&pg=PR11&dq=fallacies+in+data+science+AND+fallacies+in+machine+learning+AND+fallacies+AND+bias+AND+Semantic+data+AND+Logical+errors+AND+Unfairness+AND+fallacies+in+artificial+intelligence+AND+synthetic+data+generation+AND+bias&ots=aMp-gH1HPh&sig=hu36HPYSqpGG-_7dvpKFMhdF3dc\n",
      "Paper 39: https://pergamos.lib.uoa.gr/uoa/dl/object/3397237/file.pdf\n"
     ]
    }
   ],
   "source": [
    "search_query = \"fallacies in data science AND fallacies in machine learning AND fallacies AND bias AND Semantic data AND Logical errors AND Unfairness AND fallacies in artificial intelligence AND synthetic data generation AND bias\"\n",
    "num_pages = 5  \n",
    "papers = google_scholar_search(search_query, num_pages)\n",
    "\n",
    "for i, paper in enumerate(papers, start=1):\n",
    "    print(f\"Paper {i}: {paper}\")"
   ]
  },
  {
   "cell_type": "code",
   "execution_count": null,
   "id": "a3209710-d129-48a5-b256-c6deb5294619",
   "metadata": {},
   "outputs": [],
   "source": []
  }
 ],
 "metadata": {
  "kernelspec": {
   "display_name": "Python 3 (ipykernel)",
   "language": "python",
   "name": "python3"
  },
  "language_info": {
   "codemirror_mode": {
    "name": "ipython",
    "version": 3
   },
   "file_extension": ".py",
   "mimetype": "text/x-python",
   "name": "python",
   "nbconvert_exporter": "python",
   "pygments_lexer": "ipython3",
   "version": "3.11.8"
  }
 },
 "nbformat": 4,
 "nbformat_minor": 5
}
